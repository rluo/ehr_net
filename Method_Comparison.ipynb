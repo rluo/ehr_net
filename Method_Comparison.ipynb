{
 "cells": [
  {
   "cell_type": "markdown",
   "metadata": {},
   "source": [
    "For fast execution of other computationally expensive methods, the dimensions in this notebook were intentionally reduced for illustrative purposes. The results using large-scale simulation studies are available in our paper."
   ]
  },
  {
   "cell_type": "code",
   "execution_count": 44,
   "metadata": {},
   "outputs": [],
   "source": [
    "source(\"src/net_functions.R\")"
   ]
  },
  {
   "cell_type": "markdown",
   "metadata": {},
   "source": [
    "# Simulate data"
   ]
  },
  {
   "cell_type": "code",
   "execution_count": 45,
   "metadata": {},
   "outputs": [
    {
     "data": {
      "text/html": [
       "<table>\n",
       "<caption>A matrix: 5 × 5 of type dbl</caption>\n",
       "<tbody>\n",
       "\t<tr><td>0</td><td> 0.0000000</td><td> 0.0000000</td><td> 0.0000000</td><td> 0.0000000</td></tr>\n",
       "\t<tr><td>0</td><td> 0.0000000</td><td> 0.0000000</td><td> 0.0000000</td><td>-0.2911937</td></tr>\n",
       "\t<tr><td>0</td><td> 0.0000000</td><td> 0.0000000</td><td>-0.9820707</td><td> 0.0000000</td></tr>\n",
       "\t<tr><td>0</td><td> 0.0000000</td><td>-0.9820707</td><td> 0.0000000</td><td> 0.0000000</td></tr>\n",
       "\t<tr><td>0</td><td>-0.2911937</td><td> 0.0000000</td><td> 0.0000000</td><td> 0.0000000</td></tr>\n",
       "</tbody>\n",
       "</table>\n"
      ],
      "text/latex": [
       "A matrix: 5 × 5 of type dbl\n",
       "\\begin{tabular}{lllll}\n",
       "\t 0 &  0.0000000 &  0.0000000 &  0.0000000 &  0.0000000\\\\\n",
       "\t 0 &  0.0000000 &  0.0000000 &  0.0000000 & -0.2911937\\\\\n",
       "\t 0 &  0.0000000 &  0.0000000 & -0.9820707 &  0.0000000\\\\\n",
       "\t 0 &  0.0000000 & -0.9820707 &  0.0000000 &  0.0000000\\\\\n",
       "\t 0 & -0.2911937 &  0.0000000 &  0.0000000 &  0.0000000\\\\\n",
       "\\end{tabular}\n"
      ],
      "text/markdown": [
       "\n",
       "A matrix: 5 × 5 of type dbl\n",
       "\n",
       "| 0 |  0.0000000 |  0.0000000 |  0.0000000 |  0.0000000 |\n",
       "| 0 |  0.0000000 |  0.0000000 |  0.0000000 | -0.2911937 |\n",
       "| 0 |  0.0000000 |  0.0000000 | -0.9820707 |  0.0000000 |\n",
       "| 0 |  0.0000000 | -0.9820707 |  0.0000000 |  0.0000000 |\n",
       "| 0 | -0.2911937 |  0.0000000 |  0.0000000 |  0.0000000 |\n",
       "\n"
      ],
      "text/plain": [
       "     [,1] [,2]       [,3]       [,4]       [,5]      \n",
       "[1,] 0     0.0000000  0.0000000  0.0000000  0.0000000\n",
       "[2,] 0     0.0000000  0.0000000  0.0000000 -0.2911937\n",
       "[3,] 0     0.0000000  0.0000000 -0.9820707  0.0000000\n",
       "[4,] 0     0.0000000 -0.9820707  0.0000000  0.0000000\n",
       "[5,] 0    -0.2911937  0.0000000  0.0000000  0.0000000"
      ]
     },
     "metadata": {},
     "output_type": "display_data"
    },
    {
     "data": {
      "text/html": [
       "<table>\n",
       "<caption>A matrix: 6 × 5 of type int</caption>\n",
       "<thead>\n",
       "\t<tr><th scope=col>V1</th><th scope=col>V2</th><th scope=col>V3</th><th scope=col>V4</th><th scope=col>V5</th></tr>\n",
       "</thead>\n",
       "<tbody>\n",
       "\t<tr><td>1</td><td>1</td><td>0</td><td>1</td><td>0</td></tr>\n",
       "\t<tr><td>1</td><td>1</td><td>0</td><td>0</td><td>0</td></tr>\n",
       "\t<tr><td>1</td><td>1</td><td>1</td><td>0</td><td>1</td></tr>\n",
       "\t<tr><td>0</td><td>0</td><td>1</td><td>0</td><td>1</td></tr>\n",
       "\t<tr><td>1</td><td>1</td><td>1</td><td>0</td><td>1</td></tr>\n",
       "\t<tr><td>1</td><td>1</td><td>0</td><td>0</td><td>0</td></tr>\n",
       "</tbody>\n",
       "</table>\n"
      ],
      "text/latex": [
       "A matrix: 6 × 5 of type int\n",
       "\\begin{tabular}{lllll}\n",
       " V1 & V2 & V3 & V4 & V5\\\\\n",
       "\\hline\n",
       "\t 1 & 1 & 0 & 1 & 0\\\\\n",
       "\t 1 & 1 & 0 & 0 & 0\\\\\n",
       "\t 1 & 1 & 1 & 0 & 1\\\\\n",
       "\t 0 & 0 & 1 & 0 & 1\\\\\n",
       "\t 1 & 1 & 1 & 0 & 1\\\\\n",
       "\t 1 & 1 & 0 & 0 & 0\\\\\n",
       "\\end{tabular}\n"
      ],
      "text/markdown": [
       "\n",
       "A matrix: 6 × 5 of type int\n",
       "\n",
       "| V1 | V2 | V3 | V4 | V5 |\n",
       "|---|---|---|---|---|\n",
       "| 1 | 1 | 0 | 1 | 0 |\n",
       "| 1 | 1 | 0 | 0 | 0 |\n",
       "| 1 | 1 | 1 | 0 | 1 |\n",
       "| 0 | 0 | 1 | 0 | 1 |\n",
       "| 1 | 1 | 1 | 0 | 1 |\n",
       "| 1 | 1 | 0 | 0 | 0 |\n",
       "\n"
      ],
      "text/plain": [
       "     V1 V2 V3 V4 V5\n",
       "[1,] 1  1  0  1  0 \n",
       "[2,] 1  1  0  0  0 \n",
       "[3,] 1  1  1  0  1 \n",
       "[4,] 0  0  1  0  1 \n",
       "[5,] 1  1  1  0  1 \n",
       "[6,] 1  1  0  0  0 "
      ]
     },
     "metadata": {},
     "output_type": "display_data"
    }
   ],
   "source": [
    "re_simu <- simu_data(iter = 1, N = 5, nSample = 5000,  sparse_rate = 0.2)\n",
    "re_simu$graph\n",
    "\n",
    "head(re_simu$data) ## patients x diagnosis codes "
   ]
  },
  {
   "cell_type": "markdown",
   "metadata": {},
   "source": [
    "# Infer networks"
   ]
  },
  {
   "cell_type": "code",
   "execution_count": 46,
   "metadata": {},
   "outputs": [
    {
     "data": {
      "text/html": [
       "<table>\n",
       "<caption>A matrix: 5 × 5 of type dbl</caption>\n",
       "<tbody>\n",
       "\t<tr><td> 0.0000000</td><td> 0.0000000</td><td> 0.000000</td><td>-0.1722169</td><td> 0.0000000</td></tr>\n",
       "\t<tr><td> 0.0000000</td><td> 0.0000000</td><td> 0.000000</td><td> 0.0000000</td><td>-0.4248704</td></tr>\n",
       "\t<tr><td> 0.0000000</td><td> 0.0000000</td><td> 0.000000</td><td>-1.0401325</td><td> 0.0000000</td></tr>\n",
       "\t<tr><td>-0.1722169</td><td> 0.0000000</td><td>-1.040132</td><td> 0.0000000</td><td> 0.0000000</td></tr>\n",
       "\t<tr><td> 0.0000000</td><td>-0.4248704</td><td> 0.000000</td><td> 0.0000000</td><td> 0.0000000</td></tr>\n",
       "</tbody>\n",
       "</table>\n"
      ],
      "text/latex": [
       "A matrix: 5 × 5 of type dbl\n",
       "\\begin{tabular}{lllll}\n",
       "\t  0.0000000 &  0.0000000 &  0.000000 & -0.1722169 &  0.0000000\\\\\n",
       "\t  0.0000000 &  0.0000000 &  0.000000 &  0.0000000 & -0.4248704\\\\\n",
       "\t  0.0000000 &  0.0000000 &  0.000000 & -1.0401325 &  0.0000000\\\\\n",
       "\t -0.1722169 &  0.0000000 & -1.040132 &  0.0000000 &  0.0000000\\\\\n",
       "\t  0.0000000 & -0.4248704 &  0.000000 &  0.0000000 &  0.0000000\\\\\n",
       "\\end{tabular}\n"
      ],
      "text/markdown": [
       "\n",
       "A matrix: 5 × 5 of type dbl\n",
       "\n",
       "|  0.0000000 |  0.0000000 |  0.000000 | -0.1722169 |  0.0000000 |\n",
       "|  0.0000000 |  0.0000000 |  0.000000 |  0.0000000 | -0.4248704 |\n",
       "|  0.0000000 |  0.0000000 |  0.000000 | -1.0401325 |  0.0000000 |\n",
       "| -0.1722169 |  0.0000000 | -1.040132 |  0.0000000 |  0.0000000 |\n",
       "|  0.0000000 | -0.4248704 |  0.000000 |  0.0000000 |  0.0000000 |\n",
       "\n"
      ],
      "text/plain": [
       "     [,1]       [,2]       [,3]      [,4]       [,5]      \n",
       "[1,]  0.0000000  0.0000000  0.000000 -0.1722169  0.0000000\n",
       "[2,]  0.0000000  0.0000000  0.000000  0.0000000 -0.4248704\n",
       "[3,]  0.0000000  0.0000000  0.000000 -1.0401325  0.0000000\n",
       "[4,] -0.1722169  0.0000000 -1.040132  0.0000000  0.0000000\n",
       "[5,]  0.0000000 -0.4248704  0.000000  0.0000000  0.0000000"
      ]
     },
     "metadata": {},
     "output_type": "display_data"
    }
   ],
   "source": [
    "## Pairwise OR method\n",
    "graph_or <- convention_methods(re_simu$data)[[1]]\n",
    "graph_or"
   ]
  },
  {
   "cell_type": "code",
   "execution_count": 47,
   "metadata": {},
   "outputs": [
    {
     "data": {
      "text/html": [
       "<table>\n",
       "<caption>A matrix: 5 × 5 of type dbl</caption>\n",
       "<tbody>\n",
       "\t<tr><td>0.000000000</td><td>0.0000000000</td><td>0.0000000000</td><td>0.000924879</td><td>0.000000000</td></tr>\n",
       "\t<tr><td>0.000000000</td><td>0.0000000000</td><td>0.0006382483</td><td>0.000000000</td><td>0.005602639</td></tr>\n",
       "\t<tr><td>0.000000000</td><td>0.0006382483</td><td>0.0000000000</td><td>0.032583226</td><td>0.000000000</td></tr>\n",
       "\t<tr><td>0.000924879</td><td>0.0000000000</td><td>0.0325832259</td><td>0.000000000</td><td>0.000000000</td></tr>\n",
       "\t<tr><td>0.000000000</td><td>0.0056026389</td><td>0.0000000000</td><td>0.000000000</td><td>0.000000000</td></tr>\n",
       "</tbody>\n",
       "</table>\n"
      ],
      "text/latex": [
       "A matrix: 5 × 5 of type dbl\n",
       "\\begin{tabular}{lllll}\n",
       "\t 0.000000000 & 0.0000000000 & 0.0000000000 & 0.000924879 & 0.000000000\\\\\n",
       "\t 0.000000000 & 0.0000000000 & 0.0006382483 & 0.000000000 & 0.005602639\\\\\n",
       "\t 0.000000000 & 0.0006382483 & 0.0000000000 & 0.032583226 & 0.000000000\\\\\n",
       "\t 0.000924879 & 0.0000000000 & 0.0325832259 & 0.000000000 & 0.000000000\\\\\n",
       "\t 0.000000000 & 0.0056026389 & 0.0000000000 & 0.000000000 & 0.000000000\\\\\n",
       "\\end{tabular}\n"
      ],
      "text/markdown": [
       "\n",
       "A matrix: 5 × 5 of type dbl\n",
       "\n",
       "| 0.000000000 | 0.0000000000 | 0.0000000000 | 0.000924879 | 0.000000000 |\n",
       "| 0.000000000 | 0.0000000000 | 0.0006382483 | 0.000000000 | 0.005602639 |\n",
       "| 0.000000000 | 0.0006382483 | 0.0000000000 | 0.032583226 | 0.000000000 |\n",
       "| 0.000924879 | 0.0000000000 | 0.0325832259 | 0.000000000 | 0.000000000 |\n",
       "| 0.000000000 | 0.0056026389 | 0.0000000000 | 0.000000000 | 0.000000000 |\n",
       "\n"
      ],
      "text/plain": [
       "     [,1]        [,2]         [,3]         [,4]        [,5]       \n",
       "[1,] 0.000000000 0.0000000000 0.0000000000 0.000924879 0.000000000\n",
       "[2,] 0.000000000 0.0000000000 0.0006382483 0.000000000 0.005602639\n",
       "[3,] 0.000000000 0.0006382483 0.0000000000 0.032583226 0.000000000\n",
       "[4,] 0.000924879 0.0000000000 0.0325832259 0.000000000 0.000000000\n",
       "[5,] 0.000000000 0.0056026389 0.0000000000 0.000000000 0.000000000"
      ]
     },
     "metadata": {},
     "output_type": "display_data"
    }
   ],
   "source": [
    "## Pairwise mutual information method, may require extended computation time\n",
    "graph_mi <- mi_conn(re_simu$data)\n",
    "graph_mi"
   ]
  },
  {
   "cell_type": "code",
   "execution_count": 48,
   "metadata": {},
   "outputs": [
    {
     "data": {
      "text/html": [
       "<table>\n",
       "<caption>A matrix: 5 × 5 of type dbl</caption>\n",
       "<tbody>\n",
       "\t<tr><td>0</td><td> 0.0000000</td><td> 0.0000000</td><td> 0.0000000</td><td> 0.0000000</td></tr>\n",
       "\t<tr><td>0</td><td> 0.0000000</td><td>-0.0860425</td><td> 0.0000000</td><td>-0.3068361</td></tr>\n",
       "\t<tr><td>0</td><td>-0.0860425</td><td> 0.0000000</td><td>-0.9683625</td><td> 0.0000000</td></tr>\n",
       "\t<tr><td>0</td><td> 0.0000000</td><td>-0.9683625</td><td> 0.0000000</td><td> 0.0000000</td></tr>\n",
       "\t<tr><td>0</td><td>-0.3068361</td><td> 0.0000000</td><td> 0.0000000</td><td> 0.0000000</td></tr>\n",
       "</tbody>\n",
       "</table>\n"
      ],
      "text/latex": [
       "A matrix: 5 × 5 of type dbl\n",
       "\\begin{tabular}{lllll}\n",
       "\t 0 &  0.0000000 &  0.0000000 &  0.0000000 &  0.0000000\\\\\n",
       "\t 0 &  0.0000000 & -0.0860425 &  0.0000000 & -0.3068361\\\\\n",
       "\t 0 & -0.0860425 &  0.0000000 & -0.9683625 &  0.0000000\\\\\n",
       "\t 0 &  0.0000000 & -0.9683625 &  0.0000000 &  0.0000000\\\\\n",
       "\t 0 & -0.3068361 &  0.0000000 &  0.0000000 &  0.0000000\\\\\n",
       "\\end{tabular}\n"
      ],
      "text/markdown": [
       "\n",
       "A matrix: 5 × 5 of type dbl\n",
       "\n",
       "| 0 |  0.0000000 |  0.0000000 |  0.0000000 |  0.0000000 |\n",
       "| 0 |  0.0000000 | -0.0860425 |  0.0000000 | -0.3068361 |\n",
       "| 0 | -0.0860425 |  0.0000000 | -0.9683625 |  0.0000000 |\n",
       "| 0 |  0.0000000 | -0.9683625 |  0.0000000 |  0.0000000 |\n",
       "| 0 | -0.3068361 |  0.0000000 |  0.0000000 |  0.0000000 |\n",
       "\n"
      ],
      "text/plain": [
       "     [,1] [,2]       [,3]       [,4]       [,5]      \n",
       "[1,] 0     0.0000000  0.0000000  0.0000000  0.0000000\n",
       "[2,] 0     0.0000000 -0.0860425  0.0000000 -0.3068361\n",
       "[3,] 0    -0.0860425  0.0000000 -0.9683625  0.0000000\n",
       "[4,] 0     0.0000000 -0.9683625  0.0000000  0.0000000\n",
       "[5,] 0    -0.3068361  0.0000000  0.0000000  0.0000000"
      ]
     },
     "metadata": {},
     "output_type": "display_data"
    }
   ],
   "source": [
    "## Our elastic net regularized graphical modeling method \n",
    "graph_en <- Elastic_fit(re_simu$data, plot = FALSE, progressbar = FALSE, alpha = 0.9)$AB_MIN_graph_final\n",
    "graph_en"
   ]
  },
  {
   "cell_type": "markdown",
   "metadata": {},
   "source": [
    "# Assess performance"
   ]
  },
  {
   "cell_type": "code",
   "execution_count": 49,
   "metadata": {},
   "outputs": [
    {
     "data": {
      "text/html": [
       "<dl>\n",
       "\t<dt>$dist_or</dt>\n",
       "\t\t<dd>0.319058866995555</dd>\n",
       "\t<dt>$dist_mi</dt>\n",
       "\t\t<dd>1.49506647169881</dd>\n",
       "\t<dt>$dist_en</dt>\n",
       "\t\t<dd>0.125187119901425</dd>\n",
       "</dl>\n"
      ],
      "text/latex": [
       "\\begin{description}\n",
       "\\item[\\$dist\\_or] 0.319058866995555\n",
       "\\item[\\$dist\\_mi] 1.49506647169881\n",
       "\\item[\\$dist\\_en] 0.125187119901425\n",
       "\\end{description}\n"
      ],
      "text/markdown": [
       "$dist_or\n",
       ":   0.319058866995555\n",
       "$dist_mi\n",
       ":   1.49506647169881\n",
       "$dist_en\n",
       ":   0.125187119901425\n",
       "\n",
       "\n"
      ],
      "text/plain": [
       "$dist_or\n",
       "[1] 0.3190589\n",
       "\n",
       "$dist_mi\n",
       "[1] 1.495066\n",
       "\n",
       "$dist_en\n",
       "[1] 0.1251871\n"
      ]
     },
     "metadata": {},
     "output_type": "display_data"
    }
   ],
   "source": [
    "list(dist_or = base::norm(re_simu$graph - graph_or, \"F\"), dist_mi = base::norm(re_simu$graph - \n",
    "    graph_mi, \"F\"), dist_en = base::norm(re_simu$graph - graph_en, \"F\"))"
   ]
  },
  {
   "cell_type": "markdown",
   "metadata": {},
   "source": [
    "# A small-scale simulation comparison"
   ]
  },
  {
   "cell_type": "markdown",
   "metadata": {},
   "source": [
    "For full-scale simualtions, please increase the dimensions *N* and *n_simu*. Please consider employing high performance computing clusters if you want to include the mutual information method."
   ]
  },
  {
   "cell_type": "code",
   "execution_count": 50,
   "metadata": {},
   "outputs": [],
   "source": [
    "run_simu <- function(iter) {\n",
    "    re_simu <- simu_data(iter, N = 5, nSample = 5000, sparse_rate = 0.2)  ## increase N for full-scale simulations\n",
    "    graph_or <- convention_methods(re_simu$data)[[1]]\n",
    "    graph_mi <- mi_conn(re_simu$data)\n",
    "    graph_en <- Elastic_fit(re_simu$data, plot = FALSE, progressbar = FALSE, alpha = 0.9)$AB_MIN_graph_final\n",
    "    return(list(dist_or = base::norm(re_simu$graph - graph_or, \"F\"), dist_mi = base::norm(re_simu$graph - \n",
    "        graph_mi, \"F\"), dist_en = base::norm(re_simu$graph - graph_en, \"F\")))\n",
    "}"
   ]
  },
  {
   "cell_type": "code",
   "execution_count": 51,
   "metadata": {},
   "outputs": [],
   "source": [
    "library(parallel)\n",
    "n_simu <- 5 ## increase n_simu to 50 or 100 for full-scale simulations\n",
    "re_dist <- mclapply(1:n_simu, run_simu, mc.cores = 5)"
   ]
  },
  {
   "cell_type": "code",
   "execution_count": 52,
   "metadata": {},
   "outputs": [
    {
     "data": {
      "text/html": [
       "<style>\n",
       ".dl-inline {width: auto; margin:0; padding: 0}\n",
       ".dl-inline>dt, .dl-inline>dd {float: none; width: auto; display: inline-block}\n",
       ".dl-inline>dt::after {content: \":\\0020\"; padding-right: .5ex}\n",
       ".dl-inline>dt:not(:first-of-type) {padding-left: .5ex}\n",
       "</style><dl class=dl-inline><dt>dist_or</dt><dd>0.649629575570333</dd><dt>dist_mi</dt><dd>1.99386061741471</dd><dt>dist_en</dt><dd>0.514580520586726</dd></dl>\n"
      ],
      "text/latex": [
       "\\begin{description*}\n",
       "\\item[dist\\textbackslash{}\\_or] 0.649629575570333\n",
       "\\item[dist\\textbackslash{}\\_mi] 1.99386061741471\n",
       "\\item[dist\\textbackslash{}\\_en] 0.514580520586726\n",
       "\\end{description*}\n"
      ],
      "text/markdown": [
       "dist_or\n",
       ":   0.649629575570333dist_mi\n",
       ":   1.99386061741471dist_en\n",
       ":   0.514580520586726\n",
       "\n"
      ],
      "text/plain": [
       "  dist_or   dist_mi   dist_en \n",
       "0.6496296 1.9938606 0.5145805 "
      ]
     },
     "metadata": {},
     "output_type": "display_data"
    }
   ],
   "source": [
    "dist_df <- as.data.frame(do.call(rbind, re_dist))\n",
    "apply(dist_df, 2, function(v) mean(unlist(v))) ## average distances to the truth, the smaller the better"
   ]
  }
 ],
 "metadata": {
  "kernelspec": {
   "display_name": "R",
   "language": "R",
   "name": "ir"
  },
  "language_info": {
   "codemirror_mode": "r",
   "file_extension": ".r",
   "mimetype": "text/x-r-source",
   "name": "R",
   "pygments_lexer": "r",
   "version": "4.0.3"
  },
  "toc": {
   "base_numbering": 1,
   "nav_menu": {},
   "number_sections": true,
   "sideBar": true,
   "skip_h1_title": false,
   "title_cell": "Table of Contents",
   "title_sidebar": "Contents",
   "toc_cell": false,
   "toc_position": {},
   "toc_section_display": true,
   "toc_window_display": false
  }
 },
 "nbformat": 4,
 "nbformat_minor": 4
}
